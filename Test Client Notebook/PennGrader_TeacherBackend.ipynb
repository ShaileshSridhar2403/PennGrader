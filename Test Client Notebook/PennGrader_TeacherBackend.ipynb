{
 "cells": [
  {
   "cell_type": "code",
   "execution_count": 1,
   "metadata": {},
   "outputs": [
    {
     "name": "stdout",
     "output_type": "stream",
     "text": [
      "Requirement already satisfied: penn_grader==0.5 in c:\\users\\zives\\python\\penngrader\\pip (0.5)\n",
      "Requirement already satisfied: dill in c:\\users\\zives\\appdata\\local\\programs\\python\\python39\\lib\\site-packages (from penn_grader==0.5) (0.3.5.1)\n",
      "Requirement already satisfied: pyyaml in c:\\users\\zives\\appdata\\local\\programs\\python\\python39\\lib\\site-packages (from penn_grader==0.5) (5.4.1)\n",
      "Requirement already satisfied: pyaml in c:\\users\\zives\\appdata\\local\\programs\\python\\python39\\lib\\site-packages (21.10.1)\n",
      "Requirement already satisfied: PyYAML in c:\\users\\zives\\appdata\\local\\programs\\python\\python39\\lib\\site-packages (from pyaml) (5.4.1)\n"
     ]
    }
   ],
   "source": [
    "%%capture\n",
    "!pip3 install penn_grader --upgrade\n",
    "!pip3 install pyaml"
   ]
  },
  {
   "cell_type": "code",
   "execution_count": 1,
   "metadata": {},
   "outputs": [],
   "source": [
    "from penngrader.backend import PennGraderBackend"
   ]
  },
  {
   "cell_type": "markdown",
   "metadata": {},
   "source": [
    "# PennGrader: Teacher Backend\n",
    "\n",
    "Follow this notebook's instructions to write your homework's test cases and see student's grades.\n",
    "### Configuration\n",
    "Edit the AWS Lambda endpoint info here (or skip this cell and copy a `config.yaml`):"
   ]
  },
  {
   "cell_type": "code",
   "execution_count": 5,
   "metadata": {},
   "outputs": [
    {
     "name": "stdout",
     "output_type": "stream",
     "text": [
      "Overwriting config.yaml\n"
     ]
    }
   ],
   "source": [
    "%%writefile config.yaml\n",
    "config_api_url: 'https://...amazonaws.com/default/HomeworkConfig'\n",
    "config_api_key: '...'"
   ]
  },
  {
   "cell_type": "code",
   "execution_count": 2,
   "metadata": {
    "scrolled": false
   },
   "outputs": [
    {
     "name": "stdout",
     "output_type": "stream",
     "text": [
      "Success! Teacher backend initialized.\n",
      "\n",
      "Homework ID: CISDEMO_Spring_2019_HW1\n"
     ]
    }
   ],
   "source": [
    "# Set the homework number accordingly\n",
    "backend = PennGraderBackend('config.yaml', 1)"
   ]
  },
  {
   "cell_type": "markdown",
   "metadata": {},
   "source": [
    "### Metadata\n",
    "Edit the following metadata variables to your preference:\n",
    "\n",
    "`TOTAL_SCORE`: Total number of points this homework is worth. **Note:** Make sure all test cases weigths add up to this number.\n",
    "\n",
    "`DEADLINE`:... you guessed it, the homework deadline. (_Format:_ `'YYYY-MM-DD HH:MM A'`)\n",
    "\n",
    "`MAX_DAILY_TEST_CASE_SUBMISSIONS`: Maximum number of daily submissions per test case per student."
   ]
  },
  {
   "cell_type": "code",
   "execution_count": 3,
   "metadata": {},
   "outputs": [],
   "source": [
    "TOTAL_SCORE = 20\n",
    "DEADLINE = '2022-12-05 11:59 PM'\n",
    "MAX_DAILY_TEST_CASE_SUBMISSIONS = 100"
   ]
  },
  {
   "cell_type": "code",
   "execution_count": 4,
   "metadata": {},
   "outputs": [
    {
     "name": "stdout",
     "output_type": "stream",
     "text": [
      "Success! Metadata updated.\n",
      "\n",
      "Total HW Points: 20\n",
      "Deadline: 2022-12-05 23:59:00\n",
      "Max daily submissions per test case: 100\n",
      "\n"
     ]
    }
   ],
   "source": [
    "backend.update_metadata(DEADLINE, TOTAL_SCORE, MAX_DAILY_TEST_CASE_SUBMISSIONS)"
   ]
  },
  {
   "cell_type": "markdown",
   "metadata": {},
   "source": [
    "### Test Cases\n",
    "Define a test case function for each question.\n",
    "\n",
    "A test case function takes in a single input containing the student's answer and returns a tuple `(student score:int, maximum score:int)`. See example below:\n"
   ]
  },
  {
   "cell_type": "code",
   "execution_count": 5,
   "metadata": {},
   "outputs": [],
   "source": [
    "import numpy as np\n",
    "import pandas as pd\n",
    "\n",
    "def test_case_1(answer): \n",
    "    # [answer] in this test case is a function that adds 2 numbers\n",
    "    \n",
    "    # First initalize the max_score score of this test case. \n",
    "    max_score     = 5\n",
    "    student_score = 0\n",
    "\n",
    "    # Since answer is a function that takes two parameters \n",
    "    # answer(1,2) should return 3 if implemented correctly.\n",
    "    if answer(1,2) == 3:\n",
    "        student_score += 3\n",
    "    if answer(2,2) == 4:\n",
    "        student_score += 2\n",
    "    \n",
    "    # Returning a (student_score, max_score) tuple of ints\n",
    "    return (student_score, max_score)\n",
    "\n",
    "def test_case_2(answer): \n",
    "    max_score     = 10\n",
    "    student_score = 0\n",
    "    \n",
    "    students_df = answer \n",
    "    \n",
    "    students_df = students_df.sort_values('first_name', ascending = False)\n",
    "    if students_df.iloc[0].first_name == 'Leonardo':\n",
    "        student_score += 10\n",
    "        \n",
    "    return (student_score, max_score)"
   ]
  },
  {
   "cell_type": "markdown",
   "metadata": {},
   "source": [
    "Run the following cell to update the test cases."
   ]
  },
  {
   "cell_type": "code",
   "execution_count": 6,
   "metadata": {
    "scrolled": true
   },
   "outputs": [
    {
     "name": "stdout",
     "output_type": "stream",
     "text": [
      "Importing packages  {'types', 'json', 'inspect', 'datetime', 'numpy', 'yaml', 'difflib', 'ast', 'urllib', 'base64', 'pandas', 'dill'}\n",
      "Importing libraries  {('json', 'json'), ('numpy', 'np'), ('inspect', 'inspect'), ('dill', 'dill'), ('pandas', 'pd'), ('base64', 'base64'), ('ast', 'ast'), ('types', 'types'), ('urllib', 'urllib')}\n",
      "Importing functions  set()\n",
      "Adding case {} test_case_1\n",
      "Adding case {} test_case_2\n",
      "Success: Test cases updated successfully.\n"
     ]
    }
   ],
   "source": [
    "backend.update_test_cases(globals().items())"
   ]
  }
 ],
 "metadata": {
  "kernelspec": {
   "display_name": "Python 3.9.1 64-bit",
   "language": "python",
   "name": "python3"
  },
  "language_info": {
   "codemirror_mode": {
    "name": "ipython",
    "version": 3
   },
   "file_extension": ".py",
   "mimetype": "text/x-python",
   "name": "python",
   "nbconvert_exporter": "python",
   "pygments_lexer": "ipython3",
   "version": "3.9.1"
  },
  "vscode": {
   "interpreter": {
    "hash": "a28858159b156e518f482113b0b7feb664013437ff12e3aa1971174bf6b28d5e"
   }
  }
 },
 "nbformat": 4,
 "nbformat_minor": 2
}
