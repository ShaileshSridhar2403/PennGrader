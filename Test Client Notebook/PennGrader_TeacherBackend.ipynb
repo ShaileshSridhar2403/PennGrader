{
 "cells": [
  {
   "cell_type": "code",
   "execution_count": 1,
   "source": [
    "%%capture\r\n",
    "!pip3 install penngrader --upgrade\r\n",
    "!pip3 install PyYAML"
   ],
   "outputs": [],
   "metadata": {}
  },
  {
   "cell_type": "code",
   "execution_count": 6,
   "source": [
    "import json\r\n",
    "import dill\r\n",
    "import base64\r\n",
    "import types\r\n",
    "import ast\r\n",
    "import types\r\n",
    "import urllib.request\r\n",
    "import pandas as pd\r\n",
    "import numpy as np\r\n",
    "from datetime import datetime\r\n",
    "import inspect\r\n",
    "from difflib import SequenceMatcher\r\n",
    "\r\n",
    "from urllib.error import HTTPError\r\n",
    "\r\n",
    "# Request types\r\n",
    "HOMEWORK_ID_REQUEST     = 'GET_HOMEWORK_ID'\r\n",
    "UPDATE_METADATA_REQUEST = 'UPDATE_METADATA'\r\n",
    "UPDATE_TESTS_REQUEST    = 'UPDATE_TESTS'\r\n",
    "\r\n",
    "def is_function(val):\r\n",
    "    return inspect.isfunction(val)\r\n",
    "\r\n",
    "def is_module(val):\r\n",
    "    return inspect.ismodule(val)\r\n",
    "\r\n",
    "def is_class(val):\r\n",
    "    return inspect.isclass(val)\r\n",
    "\r\n",
    "def is_external(name):\r\n",
    "    return name not in ['__builtin__','__builtins__', 'penngrader','_sh', '__main__'] and 'penngrader' not in name\r\n",
    "\r\n",
    "\r\n",
    "class PennGraderBackend:\r\n",
    "    \r\n",
    "    def __init__(self, secret_key, homework_number):\r\n",
    "        self.secret_key = secret_key\r\n",
    "        self.homework_number = homework_number\r\n",
    "        self.homework_id = self._get_homework_id()\r\n",
    "        if 'Error' not in self.homework_id:\r\n",
    "            response  = 'Success! Teacher backend initialized.\\n\\n'\r\n",
    "            response += 'Homework ID: {}'.format(self.homework_id)\r\n",
    "            print(response)\r\n",
    "        else:\r\n",
    "            print(self.homework_id)\r\n",
    "            \r\n",
    "    def update_metadata(self, deadline, total_score, max_daily_submissions):\r\n",
    "        request = { \r\n",
    "            'homework_number' : self.homework_number, \r\n",
    "            'secret_key' : self.secret_key, \r\n",
    "            'request_type' : UPDATE_METADATA_REQUEST,\r\n",
    "            'payload' : self._serialize({\r\n",
    "                'max_daily_submissions' : max_daily_submissions,\r\n",
    "                'total_score' : total_score,\r\n",
    "                'deadline' : deadline\r\n",
    "            })\r\n",
    "        }\r\n",
    "        print(self._send_request(request, config_api_url, config_api_key))\r\n",
    "    \r\n",
    "            \r\n",
    "    def update_test_cases(self):\r\n",
    "        request = { \r\n",
    "            'homework_number' : self.homework_number, \r\n",
    "            'secret_key' : self.secret_key, \r\n",
    "            'request_type' : UPDATE_TESTS_REQUEST,\r\n",
    "            'payload' : self._serialize({\r\n",
    "                'libraries'  : self._get_imported_libraries(),\r\n",
    "                'test_cases' : self._get_test_cases(),\r\n",
    "            })\r\n",
    "        }\r\n",
    "        print(self._send_request(request, config_api_url, config_api_key))\r\n",
    "    \r\n",
    "    \r\n",
    "    def _get_homework_id(self):\r\n",
    "        request = { \r\n",
    "            'homework_number' : self.homework_number,\r\n",
    "            'secret_key' : self.secret_key,\r\n",
    "            'request_type' : HOMEWORK_ID_REQUEST,\r\n",
    "            'payload' : self._serialize(None)\r\n",
    "        }\r\n",
    "        return self._send_request(request, config_api_url, config_api_key)\r\n",
    "\r\n",
    "        \r\n",
    "    def _send_request(self, request, api_url, api_key):\r\n",
    "        params = json.dumps(request).encode('utf-8')\r\n",
    "        headers = {'content-type': 'application/json', 'x-api-key': api_key}\r\n",
    "        try:\r\n",
    "          request = urllib.request.Request(api_url, data=params, headers=headers)\r\n",
    "        except err:\r\n",
    "          return 'Request builder error: {}'.format(err.read().decode(\"utf-8\")) \r\n",
    "        try:\r\n",
    "            response = urllib.request.urlopen(request)\r\n",
    "            return '{}'.format(response.read().decode('utf-8'))\r\n",
    "        except HTTPError as error:\r\n",
    "            return 'Http Error: {}'.format(error.read().decode(\"utf-8\")) \r\n",
    "        \r\n",
    "    \r\n",
    "    def _get_imported_libraries(self):\r\n",
    "        # Get all externally imported base packages\r\n",
    "        packages = set() # (package, shortname)\r\n",
    "        for shortname, val in list(globals().items()):\r\n",
    "            if is_module(val) and is_external(shortname):\r\n",
    "                base_package = val.__name__.split('.')[0]\r\n",
    "                if base_package != 'google' and base_package != 'yaml':\r\n",
    "                  packages.add(base_package)\r\n",
    "            if (is_function(val) or is_class(val)) and is_external(val.__module__):\r\n",
    "                base_package = val.__module__.split('.')[0]\r\n",
    "                packages.add(base_package)\r\n",
    "        print ('Importing packages ', packages)\r\n",
    "\r\n",
    "        # Get all sub-imports i.e import sklearn.svm etc \r\n",
    "        imports = set() # (module path , shortname )\r\n",
    "        for shortname, val in list(globals().items()):\r\n",
    "            if is_module(val) and is_external(shortname):\r\n",
    "                if val.__name__ in packages:\r\n",
    "                    packages.remove(val.__name__)\r\n",
    "                if shortname != 'drive' and shortname != 'yaml':\r\n",
    "                  imports.add((val.__name__, shortname))\r\n",
    "\r\n",
    "        print ('Importing libraries ', imports)\r\n",
    "        # Get all function imports \r\n",
    "        functions = set() # (module path , function name)\r\n",
    "        for shortname, val in list(globals().items()):\r\n",
    "            if is_function(val)and is_external(val.__module__):\r\n",
    "                functions.add((val.__module__, shortname))     \r\n",
    "        print ('Importing functions ', functions)\r\n",
    "\r\n",
    "        return {\r\n",
    "            'packages' : list(packages), \r\n",
    "            'imports' : list(imports), \r\n",
    "            'functions' : list(functions)\r\n",
    "        }\r\n",
    "\r\n",
    "    \r\n",
    "    def _get_test_cases(self):\r\n",
    "        # Get all function imports \r\n",
    "        test_cases = {}\r\n",
    "        for shortname, val in list(globals().items()):\r\n",
    "            try:\r\n",
    "                if val and is_function(val) and not is_external(val.__module__) and \\\r\n",
    "                'penngrader' not in val.__module__:\r\n",
    "                  test_cases[shortname] = inspect.getsource(val)   \r\n",
    "                  print ('Adding case {}', shortname)\r\n",
    "            except:\r\n",
    "                print ('Skipping {}', shortname)\r\n",
    "                pass\r\n",
    "        return test_cases\r\n",
    "\r\n",
    "    \r\n",
    "    def _serialize(self, obj):\r\n",
    "        '''Dill serializes Python object into a UTF-8 string'''\r\n",
    "        byte_serialized = dill.dumps(obj, recurse = False)\r\n",
    "        return base64.b64encode(byte_serialized).decode(\"utf-8\")\r\n",
    "\r\n",
    "    \r\n",
    "    def _deserialize(self, obj):\r\n",
    "        byte_decoded = base64.b64decode(obj)\r\n",
    "        return dill.loads(byte_decoded)"
   ],
   "outputs": [],
   "metadata": {}
  },
  {
   "cell_type": "markdown",
   "source": [
    "# PennGrader: Teacher Backend\n",
    "\n",
    "Follow this notebook's insutructions to write your homework's test cases and see student's grades.\n",
    "### Configuration\n",
    "Edit the following variables and run the following cell to initialize the teacher backend.\n",
    "\n",
    "`SECRET_KEY`: The secret key you obtained when you created your course \n",
    "\n",
    "`HOMEWORK_NUMBER`: Homework number you are writing tests for. \n",
    "\n",
    "(Please do not edit the metadata of the current homeowork without changning the SECRET_KEY, this is just a template/demo)"
   ],
   "metadata": {}
  },
  {
   "cell_type": "code",
   "execution_count": 15,
   "source": [
    "from google.colab import drive\r\n",
    "drive.mount('/content/drive')"
   ],
   "outputs": [],
   "metadata": {}
  },
  {
   "cell_type": "code",
   "execution_count": null,
   "source": [
    "import yaml\r\n",
    "with open(r\"/content/drive/config.yaml\") as config_file:\r\n",
    "    student_ids = []\r\n",
    "    config = yaml.load(config_file)\r\n",
    "\r\n",
    "    config_api_url = config['config_api_url']\r\n",
    "    config_api_key = config['config_api_key']\r\n",
    "\r\n",
    "    SECRET_KEY      = config['secret_id']\r\n",
    "\r\n",
    "    # Change this for later homeworks\r\n",
    "    HOMEWORK_NUMBER = 1"
   ],
   "outputs": [],
   "metadata": {}
  },
  {
   "cell_type": "code",
   "execution_count": 8,
   "source": [
    "backend = PennGraderBackend(secret_key = SECRET_KEY, homework_number = HOMEWORK_NUMBER)"
   ],
   "outputs": [
    {
     "output_type": "stream",
     "name": "stdout",
     "text": [
      "Success! Teacher backend initialized.\n",
      "\n",
      "Homework ID: CIS545_Spring_2019_HW1\n"
     ]
    }
   ],
   "metadata": {
    "scrolled": false
   }
  },
  {
   "cell_type": "markdown",
   "source": [
    "### Metadata\n",
    "Edit the following metadata variables to your preference:\n",
    "\n",
    "`TOTAL_SCORE`: Total number of points this homework is worth. **Note:** Make sure all test cases weigths add up to this number.\n",
    "\n",
    "`DEADLINE`:... you guessed it, the homework deadline. (_Format:_ `'YYYY-MM-DD HH:MM A'`)\n",
    "\n",
    "`MAX_DAILY_TEST_CASE_SUBMISSIONS`: Maximum number of daily submissions per test case per student."
   ],
   "metadata": {}
  },
  {
   "cell_type": "code",
   "execution_count": 9,
   "source": [
    "TOTAL_SCORE = 20\r\n",
    "DEADLINE = '2019-12-05 11:59 PM'\r\n",
    "MAX_DAILY_TEST_CASE_SUBMISSIONS = 100"
   ],
   "outputs": [],
   "metadata": {}
  },
  {
   "cell_type": "code",
   "execution_count": 10,
   "source": [
    "backend.update_metadata(DEADLINE, TOTAL_SCORE, MAX_DAILY_TEST_CASE_SUBMISSIONS)"
   ],
   "outputs": [
    {
     "output_type": "stream",
     "name": "stdout",
     "text": [
      "Success! Metadata updated.\n",
      "\n",
      "Total HW Points: 20\n",
      "Deadline: 2019-12-05 23:59:00\n",
      "Max daily submissions per test case: 100\n",
      "\n"
     ]
    }
   ],
   "metadata": {}
  },
  {
   "cell_type": "markdown",
   "source": [
    "### Test Cases\n",
    "Define a test case function for each question.\n",
    "\n",
    "A test case function takes in a single input containing the student's answer and returns a tuple `(student score:int, maximum score:int)`. See example below:\n"
   ],
   "metadata": {}
  },
  {
   "cell_type": "code",
   "execution_count": 11,
   "source": [
    "import numpy as np\r\n",
    "import pandas as pd\r\n",
    "\r\n",
    "def test_case_1(answer): \r\n",
    "    # [answer] in this test case is a function that adds 2 numbers\r\n",
    "    \r\n",
    "    # First initalize the max_score score of this test case. \r\n",
    "    max_score     = 5\r\n",
    "    student_score = 0\r\n",
    "\r\n",
    "    # Since answer is a function that takes two parameters \r\n",
    "    # answer(1,2) should return 3 if implemented correctly.\r\n",
    "    if answer(1,2) == 3:\r\n",
    "        student_score += 3\r\n",
    "    if answer(2,2) == 4:\r\n",
    "        student_score += 2\r\n",
    "    \r\n",
    "    # Returning a (student_score, max_score) tuple of ints\r\n",
    "    return (student_score, max_score)\r\n",
    "\r\n",
    "def test_case_2(answer): \r\n",
    "    max_score     = 10\r\n",
    "    student_score = 0\r\n",
    "    \r\n",
    "    students_df = answer \r\n",
    "    \r\n",
    "    students_df = students_df.sort_values('first_name', ascending = False)\r\n",
    "    if students_df.iloc[0].first_name == 'Leonardo':\r\n",
    "        student_score += 10\r\n",
    "        \r\n",
    "    return (student_score, max_score)"
   ],
   "outputs": [],
   "metadata": {}
  },
  {
   "cell_type": "markdown",
   "source": [
    "Run the following cell to update the test cases."
   ],
   "metadata": {}
  },
  {
   "cell_type": "code",
   "execution_count": 12,
   "source": [
    "backend.update_test_cases()"
   ],
   "outputs": [
    {
     "output_type": "stream",
     "name": "stdout",
     "text": [
      "Success: Test cases updated successfully.\n"
     ]
    }
   ],
   "metadata": {
    "scrolled": true
   }
  },
  {
   "cell_type": "markdown",
   "source": [
    " \n",
    " \n",
    "\n",
    " ### View Grades\n",
    "\n",
    "Run the following cells to view student's scores.\n",
    " \n",
    " \n",
    "     "
   ],
   "metadata": {}
  },
  {
   "cell_type": "code",
   "execution_count": 13,
   "source": [
    "grades_df = backend.get_grades()\r\n",
    "grades_df"
   ],
   "outputs": [
    {
     "output_type": "execute_result",
     "data": {
      "text/plain": [
       "  student_id  student_score          latest_submission            deadline  \\\n",
       "0   99999999             20 2019-12-18 17:58:00.000005 2019-12-05 23:59:00   \n",
       "\n",
       "   days_late  \n",
       "0         13  "
      ],
      "text/html": [
       "<div>\n",
       "<style scoped>\n",
       "    .dataframe tbody tr th:only-of-type {\n",
       "        vertical-align: middle;\n",
       "    }\n",
       "\n",
       "    .dataframe tbody tr th {\n",
       "        vertical-align: top;\n",
       "    }\n",
       "\n",
       "    .dataframe thead th {\n",
       "        text-align: right;\n",
       "    }\n",
       "</style>\n",
       "<table border=\"1\" class=\"dataframe\">\n",
       "  <thead>\n",
       "    <tr style=\"text-align: right;\">\n",
       "      <th></th>\n",
       "      <th>student_id</th>\n",
       "      <th>student_score</th>\n",
       "      <th>latest_submission</th>\n",
       "      <th>deadline</th>\n",
       "      <th>days_late</th>\n",
       "    </tr>\n",
       "  </thead>\n",
       "  <tbody>\n",
       "    <tr>\n",
       "      <td>0</td>\n",
       "      <td>99999999</td>\n",
       "      <td>20</td>\n",
       "      <td>2019-12-18 17:58:00.000005</td>\n",
       "      <td>2019-12-05 23:59:00</td>\n",
       "      <td>13</td>\n",
       "    </tr>\n",
       "  </tbody>\n",
       "</table>\n",
       "</div>"
      ]
     },
     "metadata": {},
     "execution_count": 13
    }
   ],
   "metadata": {}
  },
  {
   "cell_type": "markdown",
   "source": [
    "Run the following cells to view the raw student's scores for each test case."
   ],
   "metadata": {}
  },
  {
   "cell_type": "code",
   "execution_count": 14,
   "source": [
    "raw_grades_df = backend.get_raw_grades() # Note: timestamp is in UTC\r\n",
    "raw_grades_df"
   ],
   "outputs": [
    {
     "output_type": "execute_result",
     "data": {
      "text/plain": [
       "  max_score             homework_id student_submission_id student_score  \\\n",
       "0         5  CIS545_Spring_2019_HW1  99999999_test_case_1             5   \n",
       "1         5  CIS545_Spring_2019_HW1  99999999_test_case_2             5   \n",
       "2        10  CIS545_Spring_2019_HW1  99999999_test_case_3            10   \n",
       "\n",
       "          timestamp  \n",
       "0  2019-12-18 22:57  \n",
       "1  2019-12-18 22:58  \n",
       "2  2019-12-18 22:58  "
      ],
      "text/html": [
       "<div>\n",
       "<style scoped>\n",
       "    .dataframe tbody tr th:only-of-type {\n",
       "        vertical-align: middle;\n",
       "    }\n",
       "\n",
       "    .dataframe tbody tr th {\n",
       "        vertical-align: top;\n",
       "    }\n",
       "\n",
       "    .dataframe thead th {\n",
       "        text-align: right;\n",
       "    }\n",
       "</style>\n",
       "<table border=\"1\" class=\"dataframe\">\n",
       "  <thead>\n",
       "    <tr style=\"text-align: right;\">\n",
       "      <th></th>\n",
       "      <th>max_score</th>\n",
       "      <th>homework_id</th>\n",
       "      <th>student_submission_id</th>\n",
       "      <th>student_score</th>\n",
       "      <th>timestamp</th>\n",
       "    </tr>\n",
       "  </thead>\n",
       "  <tbody>\n",
       "    <tr>\n",
       "      <td>0</td>\n",
       "      <td>5</td>\n",
       "      <td>CIS545_Spring_2019_HW1</td>\n",
       "      <td>99999999_test_case_1</td>\n",
       "      <td>5</td>\n",
       "      <td>2019-12-18 22:57</td>\n",
       "    </tr>\n",
       "    <tr>\n",
       "      <td>1</td>\n",
       "      <td>5</td>\n",
       "      <td>CIS545_Spring_2019_HW1</td>\n",
       "      <td>99999999_test_case_2</td>\n",
       "      <td>5</td>\n",
       "      <td>2019-12-18 22:58</td>\n",
       "    </tr>\n",
       "    <tr>\n",
       "      <td>2</td>\n",
       "      <td>10</td>\n",
       "      <td>CIS545_Spring_2019_HW1</td>\n",
       "      <td>99999999_test_case_3</td>\n",
       "      <td>10</td>\n",
       "      <td>2019-12-18 22:58</td>\n",
       "    </tr>\n",
       "  </tbody>\n",
       "</table>\n",
       "</div>"
      ]
     },
     "metadata": {},
     "execution_count": 14
    }
   ],
   "metadata": {
    "scrolled": true
   }
  },
  {
   "cell_type": "code",
   "execution_count": null,
   "source": [],
   "outputs": [],
   "metadata": {}
  }
 ],
 "metadata": {
  "kernelspec": {
   "display_name": "Python 3",
   "language": "python",
   "name": "python3"
  },
  "language_info": {
   "codemirror_mode": {
    "name": "ipython",
    "version": 3
   },
   "file_extension": ".py",
   "mimetype": "text/x-python",
   "name": "python",
   "nbconvert_exporter": "python",
   "pygments_lexer": "ipython3",
   "version": "3.7.4"
  }
 },
 "nbformat": 4,
 "nbformat_minor": 2
}