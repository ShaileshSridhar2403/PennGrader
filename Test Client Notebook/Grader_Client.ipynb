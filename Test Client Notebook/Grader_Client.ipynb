{
 "cells": [
  {
   "cell_type": "code",
   "execution_count": null,
   "source": [
    "!pip install penngrader"
   ],
   "outputs": [],
   "metadata": {}
  },
  {
   "cell_type": "code",
   "execution_count": 3,
   "source": [
    "import json\r\n",
    "import urllib.request\r\n",
    "import dill\r\n",
    "import base64\r\n",
    "import types\r\n",
    "from urllib.error import HTTPError\r\n",
    "import ast\r\n",
    "import types\r\n",
    "\r\n",
    "import penngrader.grader"
   ],
   "outputs": [],
   "metadata": {}
  },
  {
   "cell_type": "markdown",
   "source": [
    "## Autograder Setup\n",
    "Enter your 8-digit PennID below:"
   ],
   "metadata": {}
  },
  {
   "cell_type": "code",
   "execution_count": 4,
   "source": [
    "STUDENT_ID = 99999999"
   ],
   "outputs": [],
   "metadata": {}
  },
  {
   "cell_type": "markdown",
   "source": [
    "Run the following cell to initialize the autograder.\n",
    "\n",
    "**NOTE:** Remember we store your submissions and check against other student's submissions... so, not that you would, but no cheating."
   ],
   "metadata": {}
  },
  {
   "cell_type": "code",
   "execution_count": 5,
   "source": [
    "grader = PennGrader(homework_id = 'CIS545_Spr_2019_HW1', student_id = STUDENT_ID)"
   ],
   "outputs": [],
   "metadata": {}
  },
  {
   "cell_type": "markdown",
   "source": [
    "## Question 1: Write an addition function!\n",
    "Fill in the function body of `addition_function` that takes in two numbers and returns their sum."
   ],
   "metadata": {}
  },
  {
   "cell_type": "code",
   "execution_count": 6,
   "source": [
    "def addition_function(x,y):\r\n",
    "    return x + y"
   ],
   "outputs": [],
   "metadata": {}
  },
  {
   "cell_type": "markdown",
   "source": [
    "Run the following cell to grade this question."
   ],
   "metadata": {}
  },
  {
   "cell_type": "code",
   "execution_count": 7,
   "source": [
    "# Autograder Cell: Test Case #1\r\n",
    "grader.grade(test_case_id = 'test_case_1', answer = addition_function)"
   ],
   "outputs": [
    {
     "output_type": "stream",
     "name": "stdout",
     "text": [
      "Correct! You earned 5/5 points. You are a star!\n",
      "\n",
      "Your submission has been successfully recorded in the gradebook.\n"
     ]
    }
   ],
   "metadata": {}
  },
  {
   "cell_type": "markdown",
   "source": [
    " "
   ],
   "metadata": {}
  },
  {
   "cell_type": "markdown",
   "source": [
    " "
   ],
   "metadata": {}
  },
  {
   "cell_type": "markdown",
   "source": [
    "## Question 2:  Now write a Class!\n",
    "Add two class functions: `add_course` and `remove_course` that both take in a string representing a course ID."
   ],
   "metadata": {}
  },
  {
   "cell_type": "code",
   "execution_count": 4,
   "source": [
    "class Student:\r\n",
    "    def __init__(self, name = 'John', email = 'john@email', courses = []):\r\n",
    "        self.name = name\r\n",
    "        self.email = email\r\n",
    "        self.courses = courses \r\n",
    "\r\n",
    "    def get_coures(self):\r\n",
    "        return self.courses \r\n",
    "\r\n",
    "    def add_course(self, course):\r\n",
    "        self.courses.append(course)\r\n",
    "    \r\n",
    "    def remove_course(self, course):\r\n",
    "        self.courses.remove(course)"
   ],
   "outputs": [],
   "metadata": {}
  },
  {
   "cell_type": "code",
   "execution_count": 5,
   "source": [
    "# Autograder cell: Test case #2\r\n",
    "grader.grade(test_case_id = 'test_case_2', answer = Student)"
   ],
   "outputs": [
    {
     "output_type": "stream",
     "name": "stdout",
     "text": [
      "Correct! You earned 5/5 points. You are a star!\n",
      "\n",
      "Your submission has been successfully recorded in the gradebook.\n"
     ]
    }
   ],
   "metadata": {}
  },
  {
   "cell_type": "markdown",
   "source": [
    "## Question 3:  Finally, let's do some Pandas stuff!\n",
    "\n",
    "Run the following cell to load the dataset..."
   ],
   "metadata": {}
  },
  {
   "cell_type": "code",
   "execution_count": null,
   "source": [
    "import pandas as pd\r\n",
    "\r\n",
    "students_df = pd.DataFrame([['Leonardo_Murri',100],['Akshay_Grewal',65]], columns = ['first_last_name','grade'])\r\n",
    "students_df"
   ],
   "outputs": [],
   "metadata": {}
  },
  {
   "cell_type": "markdown",
   "source": [
    "Use `.apply(...)` to keep only the last name in the `first_last_name` column."
   ],
   "metadata": {}
  },
  {
   "cell_type": "code",
   "execution_count": null,
   "source": [
    "students_df['first_last_name'] = students_df['first_last_name'].apply(lambda x: x.split('_')[0])\r\n",
    "students_df"
   ],
   "outputs": [],
   "metadata": {}
  },
  {
   "cell_type": "markdown",
   "source": [
    "Now, rename the `first_last_name` column to `first_name`. Make sure your final dataframe is called `student_df`."
   ],
   "metadata": {}
  },
  {
   "cell_type": "code",
   "execution_count": null,
   "source": [
    "students_df = students_df.rename(columns = {'first_last_name':'first_name'})\r\n",
    "students_df"
   ],
   "outputs": [],
   "metadata": {}
  },
  {
   "cell_type": "markdown",
   "source": [
    "Run the following cell to grade this question."
   ],
   "metadata": {}
  },
  {
   "cell_type": "code",
   "execution_count": null,
   "source": [
    "# Autograder cell: Test case #3\n",
    "grader.grade(test_case_id = 'test_case_3', answer = students_df)"
   ],
   "outputs": [],
   "metadata": {
    "scrolled": true
   }
  },
  {
   "cell_type": "markdown",
   "source": [
    "## View your score!\n",
    "You made it this far, run the following cell to double check we stored all your scores correctly."
   ],
   "metadata": {}
  },
  {
   "cell_type": "code",
   "execution_count": null,
   "source": [
    "grader.view_score() "
   ],
   "outputs": [],
   "metadata": {
    "scrolled": true
   }
  },
  {
   "cell_type": "code",
   "execution_count": null,
   "source": [],
   "outputs": [],
   "metadata": {}
  }
 ],
 "metadata": {
  "kernelspec": {
   "display_name": "Python 3",
   "language": "python",
   "name": "python3"
  },
  "language_info": {
   "codemirror_mode": {
    "name": "ipython",
    "version": 3
   },
   "file_extension": ".py",
   "mimetype": "text/x-python",
   "name": "python",
   "nbconvert_exporter": "python",
   "pygments_lexer": "ipython3",
   "version": "3.7.4"
  }
 },
 "nbformat": 4,
 "nbformat_minor": 2
}