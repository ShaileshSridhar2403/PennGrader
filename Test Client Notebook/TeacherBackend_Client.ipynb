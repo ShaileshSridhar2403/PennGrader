{
 "cells": [
  {
   "cell_type": "code",
   "execution_count": null,
   "source": [
    "!pip install PyYAML"
   ],
   "outputs": [],
   "metadata": {}
  },
  {
   "cell_type": "code",
   "execution_count": 1,
   "source": [
    "import json\r\n",
    "import dill\r\n",
    "import base64\r\n",
    "import types\r\n",
    "import ast\r\n",
    "import types\r\n",
    "import urllib.request\r\n",
    "import pandas as pd\r\n",
    "from datetime import datetime\r\n",
    "\r\n",
    "from urllib.error import HTTPError\r\n",
    "\r\n",
    "# Request types\r\n",
    "HOMEWORK_ID_REQUEST     = 'GET_HOMEWORK_ID'\r\n",
    "UPDATE_METADATA_REQUEST = 'UPDATE_METADATA'\r\n",
    "UPDATE_TESTS_REQUEST    = 'UPDATE_TESTS'\r\n",
    "GRADES_REQUEST          = 'ALL_STUDENTS_GRADES'\r\n",
    "\r\n",
    "# Lambda endpoints\r\n",
    "config_api_url = 'https://uhbuar7r8e.execute-api.us-east-1.amazonaws.com/default/HomeworkConfig'\r\n",
    "config_api_key = 'UPK6QWTou1EDI27uIqDW4FHIcMXRVRS4HN6lq148'\r\n",
    "grades_api_url = 'https://1rwoprdby6.execute-api.us-east-1.amazonaws.com/default/Grades'\r\n",
    "grades_api_key = 'lY1O5NDRML9zEyRvWhf0c1GeEYFe3BE710Olbh3R'\r\n",
    "\r\n",
    "def is_function(val):\r\n",
    "    return type(val) == types.FunctionType\r\n",
    "\r\n",
    "\r\n",
    "def is_module(val):\r\n",
    "    return type(val) == types.ModuleType\r\n",
    "\r\n",
    "\r\n",
    "def is_external(name):\r\n",
    "    return name not in ['__builtin__','__builtins__', 'penngrader','_sh', '__main__'] and 'penngrader' not in name\r\n",
    "\r\n",
    "\r\n",
    "class PennGraderBackend:\r\n",
    "    \r\n",
    "    \r\n",
    "    def __init__(self, secret_key, homework_number):\r\n",
    "        self.secret_key = secret_key\r\n",
    "        self.homework_number = homework_number\r\n",
    "        self.homework_id = self._get_homework_id()\r\n",
    "        if 'Error' not in self.homework_id:\r\n",
    "            response  = 'Success! Teacher backend initialized.\\n\\n'\r\n",
    "            response += 'Homework ID: {}'.format(self.homework_id)\r\n",
    "            print(response)\r\n",
    "        else:\r\n",
    "            print(self.homework_id)\r\n",
    "            \r\n",
    "    def update_metadata(self, deadline, total_score, max_daily_submissions):\r\n",
    "        request = { \r\n",
    "            'homework_number' : self.homework_number, \r\n",
    "            'secret_key' : self.secret_key, \r\n",
    "            'request_type' : UPDATE_METADATA_REQUEST,\r\n",
    "            'payload' : self._serialize({\r\n",
    "                'max_daily_submissions' : max_daily_submissions,\r\n",
    "                'total_score' : total_score,\r\n",
    "                'deadline' : deadline\r\n",
    "            })\r\n",
    "        }\r\n",
    "        print(self._send_request(request, config_api_url, config_api_key))\r\n",
    "    \r\n",
    "            \r\n",
    "    def update_test_cases(self):\r\n",
    "        request = { \r\n",
    "            'homework_number' : self.homework_number, \r\n",
    "            'secret_key' : self.secret_key, \r\n",
    "            'request_type' : UPDATE_TESTS_REQUEST,\r\n",
    "            'payload' : self._serialize({\r\n",
    "                'libraries'  : self._get_imported_libraries(),\r\n",
    "                'test_cases' : self._get_test_cases(),\r\n",
    "            })\r\n",
    "        }\r\n",
    "        print(self._send_request(request, config_api_url, config_api_key))\r\n",
    "    \r\n",
    "    \r\n",
    "    def get_raw_grades(self, with_deadline = False):\r\n",
    "        request = { \r\n",
    "            'homework_id' : self.homework_id, \r\n",
    "            'secret_key' : self.secret_key, \r\n",
    "            'request_type' : GRADES_REQUEST,\r\n",
    "        }\r\n",
    "        response = self._send_request(request, grades_api_url, grades_api_key)\r\n",
    "        if 'Error' in response:\r\n",
    "            print(response)\r\n",
    "            return None\r\n",
    "        else:\r\n",
    "            grades, deadline = self._deserialize(response)\r\n",
    "            if with_deadline:\r\n",
    "                return pd.DataFrame(grades), deadline\r\n",
    "            else:\r\n",
    "                return pd.DataFrame(grades)\r\n",
    "    \r\n",
    "    def get_grades(self):\r\n",
    "        grades_df, deadline = self.get_raw_grades(with_deadline = True)\r\n",
    "        if grades_df is not None:\r\n",
    "            \r\n",
    "            if grades_df.shape[0] == 0:\r\n",
    "                return \"There have been no submissions.\"\r\n",
    "            \r\n",
    "            # Extract student ID from [student_submission_id]\r\n",
    "            grades_df['student_id'] = grades_df['student_submission_id'].apply(lambda x: str(x).split('_')[0])\r\n",
    "\r\n",
    "            # Convert to correct types\r\n",
    "            grades_df['timestamp'] = pd.to_datetime(grades_df['timestamp'])\r\n",
    "            grades_df['student_score'] = grades_df['student_score'].astype(int)\r\n",
    "\r\n",
    "            # Get total scores per students\r\n",
    "            scores_df = grades_df.groupby('student_id').sum().reset_index()[['student_id','student_score']]\r\n",
    "\r\n",
    "            # Get late days\r\n",
    "            late_df = grades_df.groupby('student_id').max().reset_index()[['student_id','timestamp']].rename(columns = {'timestamp':'latest_submission'})\r\n",
    "\r\n",
    "            # Calculate number of hours from local to UTC\r\n",
    "            local_to_utc = datetime.utcnow() - datetime.now()\r\n",
    "\r\n",
    "            # Subtract timechange offset from timestamp (lambdas are in UTC)\r\n",
    "            late_df['latest_submission'] = late_df['latest_submission'] - local_to_utc\r\n",
    "\r\n",
    "            # Add deadline from notebook context\r\n",
    "            late_df['deadline'] = pd.to_datetime(deadline)\r\n",
    "\r\n",
    "            # Add delta btw latest_submission and deadline\r\n",
    "            late_df['days_late'] = (late_df['latest_submission'] - late_df['deadline']).dt.ceil('D').dt.days\r\n",
    "\r\n",
    "            # Merge final grades\r\n",
    "            final_df = scores_df.merge(late_df, on = 'student_id')[['student_id','student_score','latest_submission','deadline','days_late']]\r\n",
    "            final_df['days_late'] = final_df['days_late'].apply(lambda x : x if x > 0 else 0)\r\n",
    "            return final_df\r\n",
    "    \r\n",
    "    \r\n",
    "    def _get_homework_id(self):\r\n",
    "        request = { \r\n",
    "            'homework_number' : self.homework_number,\r\n",
    "            'secret_key' : self.secret_key,\r\n",
    "            'request_type' : HOMEWORK_ID_REQUEST,\r\n",
    "            'payload' : self._serialize(None)\r\n",
    "        }\r\n",
    "        return self._send_request(request, config_api_url, config_api_key)\r\n",
    "\r\n",
    "        \r\n",
    "    def _send_request(self, request, api_url, api_key):\r\n",
    "        params = json.dumps(request).encode('utf-8')\r\n",
    "        headers = {'content-type': 'application/json', 'x-api-key': api_key}\r\n",
    "        request = urllib.request.Request(api_url, data=params, headers=headers)\r\n",
    "        try:\r\n",
    "            response = urllib.request.urlopen(request)\r\n",
    "            return '{}'.format(response.read().decode('utf-8'))\r\n",
    "        except HTTPError as error:\r\n",
    "            return 'Error: {}'.format(error.read().decode(\"utf-8\")) \r\n",
    "        \r\n",
    "    \r\n",
    "    def _get_imported_libraries(self):\r\n",
    "        # Get all externally imported base packages\r\n",
    "        packages = set() # (package, shortname)\r\n",
    "        for shortname, val in list(globals().items()):\r\n",
    "            if is_module(val) and is_external(shortname):\r\n",
    "                base_package = val.__name__.split('.')[0]\r\n",
    "                packages.add(base_package)\r\n",
    "            if is_function(val) and is_external(val.__module__):\r\n",
    "                base_package = val.__module__.split('.')[0]\r\n",
    "                packages.add(base_package)\r\n",
    "\r\n",
    "        # Get all sub-imports i.e import sklearn.svm etc \r\n",
    "        imports = set() # (module path , shortname )\r\n",
    "        for shortname, val in list(globals().items()):\r\n",
    "            if is_module(val) and is_external(shortname):\r\n",
    "                imports.add((val.__name__, shortname))\r\n",
    "\r\n",
    "        # Get all function imports \r\n",
    "        functions = set() # (module path , function name)\r\n",
    "        for shortname, val in list(globals().items()):\r\n",
    "            if is_function(val) and is_external(val.__module__):\r\n",
    "                functions.add((val.__module__, shortname))    \r\n",
    "\r\n",
    "        return {\r\n",
    "            'packages' : list(packages), \r\n",
    "            'imports' : list(imports), \r\n",
    "            'functions' : list(functions)\r\n",
    "        }\r\n",
    "\r\n",
    "    \r\n",
    "    def _get_test_cases(self):\r\n",
    "        # Get all function imports \r\n",
    "        test_cases = {}\r\n",
    "        for shortname, val in list(globals().items()):\r\n",
    "            if is_function(val) and not is_external(val.__module__) and 'penngrader' not in val.__module__:\r\n",
    "                test_cases[shortname] = val  \r\n",
    "        return test_cases\r\n",
    "\r\n",
    "    \r\n",
    "    def _serialize(self, obj):\r\n",
    "        '''Dill serializes Python object into a UTF-8 string'''\r\n",
    "        byte_serialized = dill.dumps(obj, recurse = True)\r\n",
    "        return base64.b64encode(byte_serialized).decode(\"utf-8\")\r\n",
    "\r\n",
    "    \r\n",
    "    def _deserialize(self, obj):\r\n",
    "        byte_decoded = base64.b64decode(obj)\r\n",
    "        return dill.loads(byte_decoded)"
   ],
   "outputs": [],
   "metadata": {}
  },
  {
   "cell_type": "markdown",
   "source": [
    "Copy the `config.yaml`, with endpoint and secret key info file, to your Google Drive."
   ],
   "metadata": {}
  },
  {
   "cell_type": "code",
   "execution_count": null,
   "source": [
    "from google.colab import drive\r\n",
    "drive.mount('/content/drive')"
   ],
   "outputs": [],
   "metadata": {}
  },
  {
   "cell_type": "code",
   "execution_count": null,
   "source": [
    "import yaml\r\n",
    "with open(r\"/content/drive/config.yaml\") as config_file:\r\n",
    "    student_ids = []\r\n",
    "    config = yaml.load(config_file)\r\n",
    "\r\n",
    "    config_api_url = config['config_api_url']\r\n",
    "    config_api_key = config['config_api_key']\r\n",
    "\r\n",
    "    SECRET_KEY      = config['secret_id']\r\n",
    "\r\n",
    "    # Change this for later homeworks\r\n",
    "    HOMEWORK_NUMBER = 1"
   ],
   "outputs": [],
   "metadata": {}
  },
  {
   "cell_type": "markdown",
   "source": [
    "# PennGrader: Teacher Backend\r\n"
   ],
   "metadata": {}
  },
  {
   "cell_type": "code",
   "execution_count": 3,
   "source": [
    "backend = PennGraderBackend(secret_key = SECRET_KEY, homework_number = HOMEWORK_NUMBER)"
   ],
   "outputs": [
    {
     "output_type": "stream",
     "name": "stdout",
     "text": [
      "Success! Teacher backend initialized.\n",
      "\n",
      "Homework ID: CIS545_Spring_2020_HW1\n"
     ]
    }
   ],
   "metadata": {
    "scrolled": false
   }
  },
  {
   "cell_type": "markdown",
   "source": [
    "### Metadata\n",
    "Edit the following metadata variables to your preference:\n",
    "\n",
    "`TOTAL_SCORE`: Total number of points this homework is worth. **Note:** Make sure all test cases weigths add up to this number.\n",
    "\n",
    "`DEADLINE`:... you guessed it, the homework deadline. (_Format:_ `'YYYY-MM-DD HH:MM A'`)\n",
    "\n",
    "`MAX_DAILY_TEST_CASE_SUBMISSIONS`: Maximum number of daily submissions per test case per student."
   ],
   "metadata": {}
  },
  {
   "cell_type": "code",
   "execution_count": 4,
   "source": [
    "TOTAL_SCORE = 20\r\n",
    "DEADLINE = '2019-12-05 11:59 PM'\r\n",
    "MAX_DAILY_TEST_CASE_SUBMISSIONS = 100"
   ],
   "outputs": [],
   "metadata": {}
  },
  {
   "cell_type": "code",
   "execution_count": 5,
   "source": [
    "backend.update_metadata(DEADLINE, TOTAL_SCORE, MAX_DAILY_TEST_CASE_SUBMISSIONS)"
   ],
   "outputs": [
    {
     "output_type": "stream",
     "name": "stdout",
     "text": [
      "Success! Metadata updated.\n",
      "\n",
      "Total HW Points: 20\n",
      "Deadline: 2019-12-05 23:59:00\n",
      "Max daily submissions per test case: 100\n",
      "\n"
     ]
    }
   ],
   "metadata": {}
  },
  {
   "cell_type": "markdown",
   "source": [
    "### Test Cases\n",
    "Define a test case function for each question.\n",
    "\n",
    "A test case function takes in a single input containing the student's answer and returns a tuple `(student score:int, maximum score:int)`. See example below:\n"
   ],
   "metadata": {}
  },
  {
   "cell_type": "code",
   "execution_count": 6,
   "source": [
    "def pandas_activity(favorite_activity): \r\n",
    "    max_score     = 5\r\n",
    "    student_score = 0\r\n",
    "\r\n",
    "    if favorite_activity in ['eating', 'sleeping']:\r\n",
    "        student_score += 5\r\n",
    "    \r\n",
    "    return (student_score, max_score)"
   ],
   "outputs": [],
   "metadata": {}
  },
  {
   "cell_type": "markdown",
   "source": [
    "Run the following cell to update the test cases."
   ],
   "metadata": {}
  },
  {
   "cell_type": "code",
   "execution_count": 7,
   "source": [
    "backend.update_test_cases()"
   ],
   "outputs": [
    {
     "output_type": "stream",
     "name": "stdout",
     "text": [
      "Success: Test cases updated successfully.\n"
     ]
    }
   ],
   "metadata": {
    "scrolled": true
   }
  },
  {
   "cell_type": "code",
   "execution_count": null,
   "source": [],
   "outputs": [],
   "metadata": {}
  }
 ],
 "metadata": {
  "kernelspec": {
   "display_name": "Python 3",
   "language": "python",
   "name": "python3"
  },
  "language_info": {
   "codemirror_mode": {
    "name": "ipython",
    "version": 3
   },
   "file_extension": ".py",
   "mimetype": "text/x-python",
   "name": "python",
   "nbconvert_exporter": "python",
   "pygments_lexer": "ipython3",
   "version": "3.7.4"
  }
 },
 "nbformat": 4,
 "nbformat_minor": 2
}