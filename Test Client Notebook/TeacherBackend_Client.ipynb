{
 "cells": [
  {
   "cell_type": "code",
   "execution_count": null,
   "metadata": {},
   "outputs": [],
   "source": [
    "!pip install PyYAML"
   ]
  },
  {
   "cell_type": "code",
   "execution_count": 1,
   "metadata": {},
   "outputs": [],
   "source": [
    "import json\n",
    "import dill\n",
    "import base64\n",
    "import types\n",
    "import ast\n",
    "import types\n",
    "import urllib.request\n",
    "import pandas as pd\n",
    "from datetime import datetime\n",
    "\n",
    "from urllib.error import HTTPError\n",
    "\n",
    "# Request types\n",
    "HOMEWORK_ID_REQUEST     = 'GET_HOMEWORK_ID'\n",
    "UPDATE_METADATA_REQUEST = 'UPDATE_METADATA'\n",
    "UPDATE_TESTS_REQUEST    = 'UPDATE_TESTS'\n",
    "GRADES_REQUEST          = 'ALL_STUDENTS_GRADES'\n",
    "\n",
    "# Lambda endpoints\n",
    "config_api_url = 'https://uhbuar7r8e.execute-api.us-east-1.amazonaws.com/default/HomeworkConfig'\n",
    "config_api_key = 'UPK6QWTou1EDI27uIqDW4FHIcMXRVRS4HN6lq148'\n",
    "grades_api_url = 'https://1rwoprdby6.execute-api.us-east-1.amazonaws.com/default/Grades'\n",
    "grades_api_key = 'lY1O5NDRML9zEyRvWhf0c1GeEYFe3BE710Olbh3R'\n",
    "\n",
    "def is_function(val):\n",
    "    return type(val) == types.FunctionType\n",
    "\n",
    "\n",
    "def is_module(val):\n",
    "    return type(val) == types.ModuleType\n",
    "\n",
    "\n",
    "def is_external(name):\n",
    "    return name not in ['__builtin__','__builtins__', 'penngrader','_sh', '__main__'] and 'penngrader' not in name\n",
    "\n",
    "\n",
    "class PennGraderBackend:\n",
    "    \n",
    "    \n",
    "    def __init__(self, secret_key, homework_number):\n",
    "        self.secret_key = secret_key\n",
    "        self.homework_number = homework_number\n",
    "        self.homework_id = self._get_homework_id()\n",
    "        if 'Error' not in self.homework_id:\n",
    "            response  = 'Success! Teacher backend initialized.\\n\\n'\n",
    "            response += 'Homework ID: {}'.format(self.homework_id)\n",
    "            print(response)\n",
    "        else:\n",
    "            print(self.homework_id)\n",
    "            \n",
    "    def update_metadata(self, deadline, total_score, max_daily_submissions):\n",
    "        request = { \n",
    "            'homework_number' : self.homework_number, \n",
    "            'secret_key' : self.secret_key, \n",
    "            'request_type' : UPDATE_METADATA_REQUEST,\n",
    "            'payload' : self._serialize({\n",
    "                'max_daily_submissions' : max_daily_submissions,\n",
    "                'total_score' : total_score,\n",
    "                'deadline' : deadline\n",
    "            })\n",
    "        }\n",
    "        print(self._send_request(request, config_api_url, config_api_key))\n",
    "    \n",
    "            \n",
    "    def update_test_cases(self):\n",
    "        request = { \n",
    "            'homework_number' : self.homework_number, \n",
    "            'secret_key' : self.secret_key, \n",
    "            'request_type' : UPDATE_TESTS_REQUEST,\n",
    "            'payload' : self._serialize({\n",
    "                'libraries'  : self._get_imported_libraries(),\n",
    "                'test_cases' : self._get_test_cases(),\n",
    "            })\n",
    "        }\n",
    "        print(self._send_request(request, config_api_url, config_api_key))\n",
    "    \n",
    "    \n",
    "    def get_raw_grades(self, with_deadline = False):\n",
    "        request = { \n",
    "            'homework_id' : self.homework_id, \n",
    "            'secret_key' : self.secret_key, \n",
    "            'request_type' : GRADES_REQUEST,\n",
    "        }\n",
    "        response = self._send_request(request, grades_api_url, grades_api_key)\n",
    "        if 'Error' in response:\n",
    "            print(response)\n",
    "            return None\n",
    "        else:\n",
    "            grades, deadline = self._deserialize(response)\n",
    "            if with_deadline:\n",
    "                return pd.DataFrame(grades), deadline\n",
    "            else:\n",
    "                return pd.DataFrame(grades)\n",
    "    \n",
    "    def get_grades(self):\n",
    "        grades_df, deadline = self.get_raw_grades(with_deadline = True)\n",
    "        if grades_df is not None:\n",
    "            \n",
    "            if grades_df.shape[0] == 0:\n",
    "                return \"There have been no submissions.\"\n",
    "            \n",
    "            # Extract student ID from [student_submission_id]\n",
    "            grades_df['student_id'] = grades_df['student_submission_id'].apply(lambda x: str(x).split('_')[0])\n",
    "\n",
    "            # Convert to correct types\n",
    "            grades_df['timestamp'] = pd.to_datetime(grades_df['timestamp'])\n",
    "            grades_df['student_score'] = grades_df['student_score'].astype(int)\n",
    "\n",
    "            # Get total scores per students\n",
    "            scores_df = grades_df.groupby('student_id').sum().reset_index()[['student_id','student_score']]\n",
    "\n",
    "            # Get late days\n",
    "            late_df = grades_df.groupby('student_id').max().reset_index()[['student_id','timestamp']].rename(columns = {'timestamp':'latest_submission'})\n",
    "\n",
    "            # Calculate number of hours from local to UTC\n",
    "            local_to_utc = datetime.utcnow() - datetime.now()\n",
    "\n",
    "            # Subtract timechange offset from timestamp (lambdas are in UTC)\n",
    "            late_df['latest_submission'] = late_df['latest_submission'] - local_to_utc\n",
    "\n",
    "            # Add deadline from notebook context\n",
    "            late_df['deadline'] = pd.to_datetime(deadline)\n",
    "\n",
    "            # Add delta btw latest_submission and deadline\n",
    "            late_df['days_late'] = (late_df['latest_submission'] - late_df['deadline']).dt.ceil('D').dt.days\n",
    "\n",
    "            # Merge final grades\n",
    "            final_df = scores_df.merge(late_df, on = 'student_id')[['student_id','student_score','latest_submission','deadline','days_late']]\n",
    "            final_df['days_late'] = final_df['days_late'].apply(lambda x : x if x > 0 else 0)\n",
    "            return final_df\n",
    "    \n",
    "    def get_question_grades(self, question_list):\n",
    "        '''\n",
    "        Return student scores on questions that are within question_list\n",
    "        '''\n",
    "        grades_df, deadline = self.get_raw_grades(with_deadline = True)\n",
    "        if grades_df is not None:\n",
    "            \n",
    "            if grades_df.shape[0] == 0:\n",
    "                return \"There have been no submissions.\"\n",
    "            \n",
    "            # Extract student ID from [student_submission_id]\n",
    "            grades_df['student_id'] = grades_df['student_submission_id'].apply(lambda x: str(x).split('_')[0])\n",
    "            grades_df['question_id'] = grades_df['student_submission_id'].apply(lambda x: x[len(str(x).split('_')[0])+1:])\n",
    "\n",
    "            # Convert to correct types\n",
    "            grades_df['timestamp'] = pd.to_datetime(grades_df['timestamp'])\n",
    "            grades_df['student_score'] = grades_df['student_score'].astype(int)\n",
    "            grades_df['max_score'] = grades_df['max_score'].astype(int)\n",
    "\n",
    "            grades_df = grades_df[grades_df['student_id'] != 99999999]\n",
    "\n",
    "            ## Legitimate PennIDs are 8 characters\n",
    "            grades_df = grades_df[grades_df['student_id'].apply(lambda x: len(str(x))) == 8]\n",
    "\n",
    "            ## Filter by whether the question ID is in our list\n",
    "            grades_df = grades_df[grades_df['question_id'].apply(lambda x: x in question_list)]\n",
    "            scores_df = grades_df.groupby('student_id').sum().reset_index()#[['student_id','student_score','max_score']]\n",
    "\n",
    "            #return grades_df#[['student_id','question_id','student_score']]\n",
    "            return scores_df\n",
    "    \n",
    "    \n",
    "    def _get_homework_id(self):\n",
    "        request = { \n",
    "            'homework_number' : self.homework_number,\n",
    "            'secret_key' : self.secret_key,\n",
    "            'request_type' : HOMEWORK_ID_REQUEST,\n",
    "            'payload' : self._serialize(None)\n",
    "        }\n",
    "        return self._send_request(request, config_api_url, config_api_key)\n",
    "\n",
    "        \n",
    "    def _send_request(self, request, api_url, api_key):\n",
    "        params = json.dumps(request).encode('utf-8')\n",
    "        headers = {'content-type': 'application/json', 'x-api-key': api_key}\n",
    "        request = urllib.request.Request(api_url, data=params, headers=headers)\n",
    "        try:\n",
    "            response = urllib.request.urlopen(request)\n",
    "            return '{}'.format(response.read().decode('utf-8'))\n",
    "        except HTTPError as error:\n",
    "            return 'Error: {}'.format(error.read().decode(\"utf-8\")) \n",
    "        \n",
    "    \n",
    "    def _get_imported_libraries(self):\n",
    "        # Get all externally imported base packages\n",
    "        packages = set() # (package, shortname)\n",
    "        for shortname, val in list(globals().items()):\n",
    "            if is_module(val) and is_external(shortname):\n",
    "                base_package = val.__name__.split('.')[0]\n",
    "                packages.add(base_package)\n",
    "            if is_function(val) and is_external(val.__module__):\n",
    "                base_package = val.__module__.split('.')[0]\n",
    "                packages.add(base_package)\n",
    "\n",
    "        # Get all sub-imports i.e import sklearn.svm etc \n",
    "        imports = set() # (module path , shortname )\n",
    "        for shortname, val in list(globals().items()):\n",
    "            if is_module(val) and is_external(shortname):\n",
    "                imports.add((val.__name__, shortname))\n",
    "\n",
    "        # Get all function imports \n",
    "        functions = set() # (module path , function name)\n",
    "        for shortname, val in list(globals().items()):\n",
    "            if is_function(val) and is_external(val.__module__):\n",
    "                functions.add((val.__module__, shortname))    \n",
    "\n",
    "        return {\n",
    "            'packages' : list(packages), \n",
    "            'imports' : list(imports), \n",
    "            'functions' : list(functions)\n",
    "        }\n",
    "\n",
    "    \n",
    "    def _get_test_cases(self):\n",
    "        # Get all function imports \n",
    "        test_cases = {}\n",
    "        for shortname, val in list(globals().items()):\n",
    "            if is_function(val) and not is_external(val.__module__) and 'penngrader' not in val.__module__:\n",
    "                test_cases[shortname] = val  \n",
    "        return test_cases\n",
    "\n",
    "    \n",
    "    def _serialize(self, obj):\n",
    "        '''Dill serializes Python object into a UTF-8 string'''\n",
    "        byte_serialized = dill.dumps(obj, recurse = True)\n",
    "        return base64.b64encode(byte_serialized).decode(\"utf-8\")\n",
    "\n",
    "    \n",
    "    def _deserialize(self, obj):\n",
    "        byte_decoded = base64.b64decode(obj)\n",
    "        return dill.loads(byte_decoded)"
   ]
  },
  {
   "cell_type": "markdown",
   "metadata": {},
   "source": [
    "Copy the `config.yaml`, with endpoint and secret key info file, to your Google Drive."
   ]
  },
  {
   "cell_type": "code",
   "execution_count": null,
   "metadata": {},
   "outputs": [],
   "source": [
    "from google.colab import drive\n",
    "drive.mount('/content/drive')"
   ]
  },
  {
   "cell_type": "code",
   "execution_count": null,
   "metadata": {},
   "outputs": [],
   "source": [
    "import yaml\n",
    "with open(r\"/content/drive/config.yaml\") as config_file:\n",
    "    student_ids = []\n",
    "    config = yaml.load(config_file)\n",
    "\n",
    "    config_api_url = config['config_api_url']\n",
    "    config_api_key = config['config_api_key']\n",
    "\n",
    "    SECRET_KEY      = config['secret_id']\n",
    "\n",
    "    # Change this for later homeworks\n",
    "    HOMEWORK_NUMBER = 1"
   ]
  },
  {
   "cell_type": "markdown",
   "metadata": {},
   "source": [
    "# PennGrader: Teacher Backend\n"
   ]
  },
  {
   "cell_type": "code",
   "execution_count": 3,
   "metadata": {
    "scrolled": false
   },
   "outputs": [
    {
     "name": "stdout",
     "output_type": "stream",
     "text": [
      "Success! Teacher backend initialized.\n",
      "\n",
      "Homework ID: CIS545_Spring_2020_HW1\n"
     ]
    }
   ],
   "source": [
    "backend = PennGraderBackend(secret_key = SECRET_KEY, homework_number = HOMEWORK_NUMBER)"
   ]
  },
  {
   "cell_type": "markdown",
   "metadata": {},
   "source": [
    "### Metadata\n",
    "Edit the following metadata variables to your preference:\n",
    "\n",
    "`TOTAL_SCORE`: Total number of points this homework is worth. **Note:** Make sure all test cases weigths add up to this number.\n",
    "\n",
    "`DEADLINE`:... you guessed it, the homework deadline. (_Format:_ `'YYYY-MM-DD HH:MM A'`)\n",
    "\n",
    "`MAX_DAILY_TEST_CASE_SUBMISSIONS`: Maximum number of daily submissions per test case per student."
   ]
  },
  {
   "cell_type": "code",
   "execution_count": 4,
   "metadata": {},
   "outputs": [],
   "source": [
    "TOTAL_SCORE = 20\n",
    "DEADLINE = '2019-12-05 11:59 PM'\n",
    "MAX_DAILY_TEST_CASE_SUBMISSIONS = 100"
   ]
  },
  {
   "cell_type": "code",
   "execution_count": 5,
   "metadata": {},
   "outputs": [
    {
     "name": "stdout",
     "output_type": "stream",
     "text": [
      "Success! Metadata updated.\n",
      "\n",
      "Total HW Points: 20\n",
      "Deadline: 2019-12-05 23:59:00\n",
      "Max daily submissions per test case: 100\n",
      "\n"
     ]
    }
   ],
   "source": [
    "backend.update_metadata(DEADLINE, TOTAL_SCORE, MAX_DAILY_TEST_CASE_SUBMISSIONS)"
   ]
  },
  {
   "cell_type": "markdown",
   "metadata": {},
   "source": [
    "### Test Cases\n",
    "Define a test case function for each question.\n",
    "\n",
    "A test case function takes in a single input containing the student's answer and returns a tuple `(student score:int, maximum score:int)`. See example below:\n"
   ]
  },
  {
   "cell_type": "code",
   "execution_count": 6,
   "metadata": {},
   "outputs": [],
   "source": [
    "def pandas_activity(favorite_activity): \n",
    "    max_score     = 5\n",
    "    student_score = 0\n",
    "\n",
    "    if favorite_activity in ['eating', 'sleeping']:\n",
    "        student_score += 5\n",
    "    \n",
    "    return (student_score, max_score)"
   ]
  },
  {
   "cell_type": "markdown",
   "metadata": {},
   "source": [
    "Run the following cell to update the test cases."
   ]
  },
  {
   "cell_type": "code",
   "execution_count": 7,
   "metadata": {
    "scrolled": true
   },
   "outputs": [
    {
     "name": "stdout",
     "output_type": "stream",
     "text": [
      "Success: Test cases updated successfully.\n"
     ]
    }
   ],
   "source": [
    "backend.update_test_cases()"
   ]
  },
  {
   "cell_type": "code",
   "execution_count": null,
   "metadata": {},
   "outputs": [],
   "source": []
  }
 ],
 "metadata": {
  "kernelspec": {
   "display_name": "Python 3",
   "language": "python",
   "name": "python3"
  },
  "language_info": {
   "codemirror_mode": {
    "name": "ipython",
    "version": 3
   },
   "file_extension": ".py",
   "mimetype": "text/x-python",
   "name": "python",
   "nbconvert_exporter": "python",
   "pygments_lexer": "ipython3",
   "version": "3.7.4"
  }
 },
 "nbformat": 4,
 "nbformat_minor": 2
}
